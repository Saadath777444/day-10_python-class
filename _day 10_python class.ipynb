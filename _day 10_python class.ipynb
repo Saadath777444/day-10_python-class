{
 "cells": [
  {
   "cell_type": "code",
   "execution_count": null,
   "id": "79e601ff",
   "metadata": {},
   "outputs": [],
   "source": [
    "Introduction to functions in python:"
   ]
  },
  {
   "cell_type": "code",
   "execution_count": 12,
   "id": "11e8f565",
   "metadata": {},
   "outputs": [],
   "source": [
    "def greet_user():\n",
    "    \"\"\"creating a greet function\"\"\"\n",
    "    print(\"Hello!\")"
   ]
  },
  {
   "cell_type": "code",
   "execution_count": 13,
   "id": "fb290fa1",
   "metadata": {},
   "outputs": [
    {
     "name": "stdout",
     "output_type": "stream",
     "text": [
      "Hello!\n"
     ]
    }
   ],
   "source": [
    "greet_user()"
   ]
  },
  {
   "cell_type": "raw",
   "id": "ddf7551d",
   "metadata": {},
   "source": []
  },
  {
   "cell_type": "code",
   "execution_count": 14,
   "id": "baaeb6ff",
   "metadata": {},
   "outputs": [],
   "source": [
    "def greet_user(username):\n",
    "    \"\"\"creating a greet function\"\"\"\n",
    "    print(f\"Hello,{username}\")"
   ]
  },
  {
   "cell_type": "code",
   "execution_count": 15,
   "id": "d13a1fde",
   "metadata": {},
   "outputs": [
    {
     "name": "stdout",
     "output_type": "stream",
     "text": [
      "Hello,dipali\n"
     ]
    }
   ],
   "source": [
    "greet_user('dipali')"
   ]
  },
  {
   "cell_type": "code",
   "execution_count": 16,
   "id": "de028f4a",
   "metadata": {},
   "outputs": [
    {
     "name": "stdout",
     "output_type": "stream",
     "text": [
      "Hello,saadath\n"
     ]
    }
   ],
   "source": [
    "greet_user('saadath')"
   ]
  },
  {
   "cell_type": "code",
   "execution_count": null,
   "id": "558d7e06",
   "metadata": {},
   "outputs": [],
   "source": []
  },
  {
   "cell_type": "code",
   "execution_count": null,
   "id": "2d746ed7",
   "metadata": {},
   "outputs": [],
   "source": [
    "Types of arguments:"
   ]
  },
  {
   "cell_type": "code",
   "execution_count": null,
   "id": "2cb77653",
   "metadata": {},
   "outputs": [],
   "source": [
    "#req : i want to create a function with a name called describe_pet where in it needs to accept two params pet_name and \\\n",
    "#animal_type"
   ]
  },
  {
   "cell_type": "code",
   "execution_count": 18,
   "id": "b944641a",
   "metadata": {},
   "outputs": [],
   "source": [
    "def describe_pet(animal_type,pet_name): \n",
    "    \"\"\"creating a function to describe the pet\"\"\"\n",
    "    print(f\"I have a {animal_type}\")\n",
    "    print(f\"my {animal_type}'s name is {pet_name}'\")"
   ]
  },
  {
   "cell_type": "code",
   "execution_count": 19,
   "id": "9e864012",
   "metadata": {},
   "outputs": [
    {
     "name": "stdout",
     "output_type": "stream",
     "text": [
      "I have a dog\n",
      "my dog's name is bruno'\n"
     ]
    }
   ],
   "source": [
    "describe_pet('dog','bruno')"
   ]
  },
  {
   "cell_type": "code",
   "execution_count": 20,
   "id": "a358f48b",
   "metadata": {},
   "outputs": [
    {
     "name": "stdout",
     "output_type": "stream",
     "text": [
      "I have a cat\n",
      "my cat's name is rex'\n"
     ]
    }
   ],
   "source": [
    "describe_pet('cat','rex')"
   ]
  },
  {
   "cell_type": "code",
   "execution_count": null,
   "id": "6073dd17",
   "metadata": {},
   "outputs": [],
   "source": [
    "#positional arguments :"
   ]
  },
  {
   "cell_type": "code",
   "execution_count": 21,
   "id": "4a688def",
   "metadata": {},
   "outputs": [
    {
     "name": "stdout",
     "output_type": "stream",
     "text": [
      "I have a stuart\n",
      "my stuart's name is dog'\n"
     ]
    }
   ],
   "source": [
    "describe_pet('stuart','dog')"
   ]
  },
  {
   "cell_type": "code",
   "execution_count": 22,
   "id": "05d33ffd",
   "metadata": {},
   "outputs": [
    {
     "name": "stdout",
     "output_type": "stream",
     "text": [
      "I have a dog\n",
      "my dog's name is stuart'\n"
     ]
    }
   ],
   "source": [
    "describe_pet('dog','stuart')"
   ]
  },
  {
   "cell_type": "code",
   "execution_count": null,
   "id": "a17f04cb",
   "metadata": {},
   "outputs": [],
   "source": []
  },
  {
   "cell_type": "code",
   "execution_count": null,
   "id": "55468f9d",
   "metadata": {},
   "outputs": [],
   "source": [
    "#Keyword arguments"
   ]
  },
  {
   "cell_type": "code",
   "execution_count": 23,
   "id": "57156a2b",
   "metadata": {},
   "outputs": [
    {
     "name": "stdout",
     "output_type": "stream",
     "text": [
      "I have a dog\n",
      "my dog's name is stuart'\n"
     ]
    }
   ],
   "source": [
    "describe_pet(pet_name='stuart',animal_type='dog')"
   ]
  },
  {
   "cell_type": "code",
   "execution_count": 24,
   "id": "d8ee97ae",
   "metadata": {},
   "outputs": [
    {
     "ename": "TypeError",
     "evalue": "describe_pet() missing 1 required positional argument: 'pet_name'",
     "output_type": "error",
     "traceback": [
      "\u001b[1;31m---------------------------------------------------------------------------\u001b[0m",
      "\u001b[1;31mTypeError\u001b[0m                                 Traceback (most recent call last)",
      "Cell \u001b[1;32mIn[24], line 1\u001b[0m\n\u001b[1;32m----> 1\u001b[0m describe_pet(\u001b[38;5;124m'\u001b[39m\u001b[38;5;124mseon\u001b[39m\u001b[38;5;124m'\u001b[39m)\n",
      "\u001b[1;31mTypeError\u001b[0m: describe_pet() missing 1 required positional argument: 'pet_name'"
     ]
    }
   ],
   "source": [
    "describe_pet('seon')"
   ]
  },
  {
   "cell_type": "code",
   "execution_count": null,
   "id": "63eab00c",
   "metadata": {},
   "outputs": [],
   "source": [
    "#default arguments :"
   ]
  },
  {
   "cell_type": "code",
   "execution_count": null,
   "id": "73fc453a",
   "metadata": {},
   "outputs": [],
   "source": []
  },
  {
   "cell_type": "code",
   "execution_count": 25,
   "id": "10d78b92",
   "metadata": {},
   "outputs": [
    {
     "ename": "SyntaxError",
     "evalue": "non-default argument follows default argument (883940389.py, line 1)",
     "output_type": "error",
     "traceback": [
      "\u001b[1;36m  Cell \u001b[1;32mIn[25], line 1\u001b[1;36m\u001b[0m\n\u001b[1;33m    def describe_pet(animal_type = 'dog',pet_name):\u001b[0m\n\u001b[1;37m                                         ^\u001b[0m\n\u001b[1;31mSyntaxError\u001b[0m\u001b[1;31m:\u001b[0m non-default argument follows default argument\n"
     ]
    }
   ],
   "source": [
    "def describe_pet(animal_type = 'dog',pet_name): \n",
    "    \"\"\"creating a function to describe the pet\"\"\"\n",
    "    print(f\"I have a {animal_type}\")\n",
    "    print(f\"my {animal_type}'s name is {pet_name}'\")"
   ]
  },
  {
   "cell_type": "code",
   "execution_count": 26,
   "id": "b9286b9b",
   "metadata": {},
   "outputs": [],
   "source": [
    "def describe_pet(pet_name,animal_type='dog'):       #parameters\n",
    "    \"\"\"creating a function to describe the pet\"\"\"\n",
    "    print(f\"I have a {animal_type}\")\n",
    "    print(f\"my {animal_type}'s name is {pet_name}'\")"
   ]
  },
  {
   "cell_type": "code",
   "execution_count": 27,
   "id": "ac6f2562",
   "metadata": {},
   "outputs": [
    {
     "name": "stdout",
     "output_type": "stream",
     "text": [
      "I have a dog\n",
      "my dog's name is seon'\n"
     ]
    }
   ],
   "source": [
    "describe_pet('seon')"
   ]
  },
  {
   "cell_type": "code",
   "execution_count": 28,
   "id": "f7ae5cb4",
   "metadata": {},
   "outputs": [
    {
     "name": "stdout",
     "output_type": "stream",
     "text": [
      "I have a cat\n",
      "my cat's name is mulo'\n"
     ]
    }
   ],
   "source": [
    "describe_pet('mulo','cat')"
   ]
  },
  {
   "cell_type": "code",
   "execution_count": 29,
   "id": "9d9bbd02",
   "metadata": {},
   "outputs": [
    {
     "name": "stdout",
     "output_type": "stream",
     "text": [
      "I have a dog\n",
      "my dog's name is mulo'\n"
     ]
    }
   ],
   "source": [
    "describe_pet('mulo')"
   ]
  },
  {
   "cell_type": "code",
   "execution_count": null,
   "id": "c2b0efb4",
   "metadata": {},
   "outputs": [],
   "source": []
  },
  {
   "cell_type": "code",
   "execution_count": null,
   "id": "6d476df0",
   "metadata": {},
   "outputs": [],
   "source": [
    "#speculative /arbitary arguments :"
   ]
  },
  {
   "cell_type": "code",
   "execution_count": 31,
   "id": "bda60e10",
   "metadata": {},
   "outputs": [],
   "source": [
    "def make_pizza(toppings):\n",
    "    \"\"\"creating a function to capture the toppings ordered\"\"\"\n",
    "    print(f\"order of toppings {toppings}\")"
   ]
  },
  {
   "cell_type": "code",
   "execution_count": 32,
   "id": "9a680ea1",
   "metadata": {},
   "outputs": [
    {
     "name": "stdout",
     "output_type": "stream",
     "text": [
      "order of toppings olives\n"
     ]
    }
   ],
   "source": [
    "make_pizza('olives')"
   ]
  },
  {
   "cell_type": "code",
   "execution_count": 33,
   "id": "db89b2ee",
   "metadata": {},
   "outputs": [
    {
     "ename": "TypeError",
     "evalue": "make_pizza() takes 1 positional argument but 2 were given",
     "output_type": "error",
     "traceback": [
      "\u001b[1;31m---------------------------------------------------------------------------\u001b[0m",
      "\u001b[1;31mTypeError\u001b[0m                                 Traceback (most recent call last)",
      "Cell \u001b[1;32mIn[33], line 1\u001b[0m\n\u001b[1;32m----> 1\u001b[0m make_pizza(\u001b[38;5;124m'\u001b[39m\u001b[38;5;124mcorn\u001b[39m\u001b[38;5;124m'\u001b[39m,\u001b[38;5;124m'\u001b[39m\u001b[38;5;124monions\u001b[39m\u001b[38;5;124m'\u001b[39m)\n",
      "\u001b[1;31mTypeError\u001b[0m: make_pizza() takes 1 positional argument but 2 were given"
     ]
    }
   ],
   "source": [
    "make_pizza('corn','onions')"
   ]
  },
  {
   "cell_type": "code",
   "execution_count": 34,
   "id": "8943d3d2",
   "metadata": {},
   "outputs": [],
   "source": [
    "def make_pizza(*toppings):\n",
    "    \"\"\"creating a function to capture the toppings ordered\"\"\"\n",
    "    print(f\"order of toppings {toppings}\")"
   ]
  },
  {
   "cell_type": "code",
   "execution_count": 35,
   "id": "e7d36e76",
   "metadata": {},
   "outputs": [
    {
     "name": "stdout",
     "output_type": "stream",
     "text": [
      "order of toppings ('corn', 'onions')\n"
     ]
    }
   ],
   "source": [
    "make_pizza('corn','onions')"
   ]
  },
  {
   "cell_type": "code",
   "execution_count": null,
   "id": "de622531",
   "metadata": {},
   "outputs": [],
   "source": []
  },
  {
   "cell_type": "code",
   "execution_count": null,
   "id": "19a4842e",
   "metadata": {},
   "outputs": [],
   "source": []
  },
  {
   "cell_type": "code",
   "execution_count": null,
   "id": "41a89a2d",
   "metadata": {},
   "outputs": [],
   "source": []
  }
 ],
 "metadata": {
  "kernelspec": {
   "display_name": "Python 3 (ipykernel)",
   "language": "python",
   "name": "python3"
  },
  "language_info": {
   "codemirror_mode": {
    "name": "ipython",
    "version": 3
   },
   "file_extension": ".py",
   "mimetype": "text/x-python",
   "name": "python",
   "nbconvert_exporter": "python",
   "pygments_lexer": "ipython3",
   "version": "3.11.3"
  }
 },
 "nbformat": 4,
 "nbformat_minor": 5
}
